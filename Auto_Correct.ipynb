{
 "cells": [
  {
   "cell_type": "code",
   "execution_count": 1,
   "id": "503b95b0",
   "metadata": {},
   "outputs": [
    {
     "name": "stdout",
     "output_type": "stream",
     "text": [
      "Collecting spello\n",
      "  Using cached spello-1.3.0-py3-none-any.whl (25 kB)\n",
      "Collecting nltk<4,>=3.4.5 (from spello)\n",
      "  Using cached nltk-3.8.1-py3-none-any.whl (1.5 MB)\n",
      "Collecting click (from nltk<4,>=3.4.5->spello)\n",
      "  Using cached click-8.1.6-py3-none-any.whl (97 kB)\n",
      "Collecting joblib (from nltk<4,>=3.4.5->spello)\n",
      "  Using cached joblib-1.3.1-py3-none-any.whl (301 kB)\n",
      "Collecting regex>=2021.8.3 (from nltk<4,>=3.4.5->spello)\n",
      "  Downloading regex-2023.6.3-cp311-cp311-win_amd64.whl (268 kB)\n",
      "                                              0.0/268.0 kB ? eta -:--:--\n",
      "     -                                        10.2/268.0 kB ? eta -:--:--\n",
      "     -                                        10.2/268.0 kB ? eta -:--:--\n",
      "     ------------                          92.2/268.0 kB 581.0 kB/s eta 0:00:01\n",
      "     -----------------------              174.1/268.0 kB 952.6 kB/s eta 0:00:01\n",
      "     -------------------------------------- 268.0/268.0 kB 1.2 MB/s eta 0:00:00\n",
      "Collecting tqdm (from nltk<4,>=3.4.5->spello)\n",
      "  Using cached tqdm-4.65.0-py3-none-any.whl (77 kB)\n",
      "Requirement already satisfied: colorama in c:\\users\\harsh\\appdata\\roaming\\python\\python311\\site-packages (from click->nltk<4,>=3.4.5->spello) (0.4.6)\n",
      "Installing collected packages: tqdm, regex, joblib, click, nltk, spello\n",
      "Successfully installed click-8.1.6 joblib-1.3.1 nltk-3.8.1 regex-2023.6.3 spello-1.3.0 tqdm-4.65.0\n"
     ]
    }
   ],
   "source": [
    "!pip install spello"
   ]
  },
  {
   "cell_type": "code",
   "execution_count": 2,
   "id": "77e41543",
   "metadata": {},
   "outputs": [],
   "source": [
    "from spello.model import SpellCorrectionModel"
   ]
  },
  {
   "cell_type": "code",
   "execution_count": 3,
   "id": "f3641340",
   "metadata": {},
   "outputs": [],
   "source": [
    "model = SpellCorrectionModel(language=\"en\")"
   ]
  },
  {
   "cell_type": "code",
   "execution_count": 4,
   "id": "3fd69b4d",
   "metadata": {},
   "outputs": [],
   "source": [
    "with open (\"words.txt\") as file:\n",
    "    data = file.readlines()\n",
    "\n",
    "data = [i.strip() for i in data]"
   ]
  },
  {
   "cell_type": "code",
   "execution_count": 5,
   "id": "1182b284",
   "metadata": {},
   "outputs": [
    {
     "name": "stdout",
     "output_type": "stream",
     "text": [
      "Spello training started..\n",
      "Context model training started ...\n"
     ]
    },
    {
     "name": "stdout",
     "output_type": "stream",
     "text": [
      "Symspell training started ...\n",
      "Phoneme training started ...\n",
      "Spello training completed successfully ...\n"
     ]
    }
   ],
   "source": [
    "model.train(data)"
   ]
  },
  {
   "cell_type": "code",
   "execution_count": 6,
   "id": "f6cae7ac",
   "metadata": {},
   "outputs": [
    {
     "data": {
      "text/plain": [
       "'.\\\\model.pkl'"
      ]
     },
     "execution_count": 6,
     "metadata": {},
     "output_type": "execute_result"
    }
   ],
   "source": [
    "model.save(\"\")"
   ]
  },
  {
   "cell_type": "code",
   "execution_count": 7,
   "id": "83d6e4f0",
   "metadata": {},
   "outputs": [
    {
     "data": {
      "text/plain": [
       "<spello.model.SpellCorrectionModel at 0x255e61ac7d0>"
      ]
     },
     "execution_count": 7,
     "metadata": {},
     "output_type": "execute_result"
    }
   ],
   "source": [
    "model.load(\"model.pkl\")"
   ]
  },
  {
   "cell_type": "code",
   "execution_count": 8,
   "id": "e81260b7",
   "metadata": {},
   "outputs": [],
   "source": [
    "lines = input(\"Enter the sentence/word : \")"
   ]
  },
  {
   "cell_type": "code",
   "execution_count": 9,
   "id": "e501b381",
   "metadata": {},
   "outputs": [],
   "source": [
    "words = lines.split()"
   ]
  },
  {
   "cell_type": "code",
   "execution_count": 10,
   "id": "0a3ef2ef",
   "metadata": {},
   "outputs": [],
   "source": [
    "correct_words = []\n",
    "for word in words:\n",
    "    corrected = model.spell_correct(word)\n",
    "    correct_words.append(corrected['spell_corrected_text'])\n",
    "    \n",
    "corrected_sentence = \" \".join(correct_words)"
   ]
  },
  {
   "cell_type": "code",
   "execution_count": 11,
   "id": "4b2f42b7",
   "metadata": {},
   "outputs": [
    {
     "name": "stdout",
     "output_type": "stream",
     "text": [
      "Corrected Sentence :  knife\n"
     ]
    }
   ],
   "source": [
    "print(\"Corrected Sentence : \",corrected_sentence)"
   ]
  },
  {
   "cell_type": "code",
   "execution_count": null,
   "id": "21ab47de",
   "metadata": {},
   "outputs": [],
   "source": []
  }
 ],
 "metadata": {
  "kernelspec": {
   "display_name": "Python 3 (ipykernel)",
   "language": "python",
   "name": "python3"
  },
  "language_info": {
   "codemirror_mode": {
    "name": "ipython",
    "version": 3
   },
   "file_extension": ".py",
   "mimetype": "text/x-python",
   "name": "python",
   "nbconvert_exporter": "python",
   "pygments_lexer": "ipython3",
   "version": "3.11.4"
  }
 },
 "nbformat": 4,
 "nbformat_minor": 5
}
